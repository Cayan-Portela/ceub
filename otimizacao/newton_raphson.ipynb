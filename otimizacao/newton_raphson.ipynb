{
 "cells": [
  {
   "cell_type": "code",
   "execution_count": 1,
   "metadata": {},
   "outputs": [],
   "source": [
    "import pandas as pd\n",
    "import numpy as np\n",
    "from aux_fun import *"
   ]
  },
  {
   "cell_type": "code",
   "execution_count": 2,
   "metadata": {},
   "outputs": [],
   "source": [
    "# Display only 2 decimals on pandas data frames\n",
    "pd.options.display.float_format = '{:.2f}'.format\n",
    "\n",
    "# Display all cell results (not only last one)\n",
    "from IPython.core.interactiveshell import InteractiveShell\n",
    "InteractiveShell.ast_node_interactivity = \"all\""
   ]
  },
  {
   "cell_type": "code",
   "execution_count": 3,
   "metadata": {},
   "outputs": [
    {
     "data": {
      "text/html": [
       "<div>\n",
       "<style scoped>\n",
       "    .dataframe tbody tr th:only-of-type {\n",
       "        vertical-align: middle;\n",
       "    }\n",
       "\n",
       "    .dataframe tbody tr th {\n",
       "        vertical-align: top;\n",
       "    }\n",
       "\n",
       "    .dataframe thead th {\n",
       "        text-align: right;\n",
       "    }\n",
       "</style>\n",
       "<table border=\"1\" class=\"dataframe\">\n",
       "  <thead>\n",
       "    <tr style=\"text-align: right;\">\n",
       "      <th></th>\n",
       "      <th>customer_id</th>\n",
       "      <th>credit_score</th>\n",
       "      <th>country</th>\n",
       "      <th>gender</th>\n",
       "      <th>age</th>\n",
       "      <th>tenure</th>\n",
       "      <th>balance</th>\n",
       "      <th>products_number</th>\n",
       "      <th>credit_card</th>\n",
       "      <th>active_member</th>\n",
       "      <th>estimated_salary</th>\n",
       "      <th>churn</th>\n",
       "    </tr>\n",
       "  </thead>\n",
       "  <tbody>\n",
       "    <tr>\n",
       "      <th>0</th>\n",
       "      <td>15765192</td>\n",
       "      <td>564</td>\n",
       "      <td>France</td>\n",
       "      <td>Male</td>\n",
       "      <td>26</td>\n",
       "      <td>7</td>\n",
       "      <td>84006.88</td>\n",
       "      <td>2</td>\n",
       "      <td>0</td>\n",
       "      <td>0</td>\n",
       "      <td>183490.99</td>\n",
       "      <td>0</td>\n",
       "    </tr>\n",
       "    <tr>\n",
       "      <th>1</th>\n",
       "      <td>15631882</td>\n",
       "      <td>688</td>\n",
       "      <td>Germany</td>\n",
       "      <td>Male</td>\n",
       "      <td>45</td>\n",
       "      <td>9</td>\n",
       "      <td>103399.87</td>\n",
       "      <td>1</td>\n",
       "      <td>0</td>\n",
       "      <td>0</td>\n",
       "      <td>129870.93</td>\n",
       "      <td>0</td>\n",
       "    </tr>\n",
       "    <tr>\n",
       "      <th>2</th>\n",
       "      <td>15777586</td>\n",
       "      <td>784</td>\n",
       "      <td>Spain</td>\n",
       "      <td>Female</td>\n",
       "      <td>42</td>\n",
       "      <td>2</td>\n",
       "      <td>109052.04</td>\n",
       "      <td>2</td>\n",
       "      <td>1</td>\n",
       "      <td>0</td>\n",
       "      <td>6409.55</td>\n",
       "      <td>0</td>\n",
       "    </tr>\n",
       "    <tr>\n",
       "      <th>3</th>\n",
       "      <td>15577107</td>\n",
       "      <td>657</td>\n",
       "      <td>Spain</td>\n",
       "      <td>Female</td>\n",
       "      <td>22</td>\n",
       "      <td>6</td>\n",
       "      <td>0.00</td>\n",
       "      <td>3</td>\n",
       "      <td>0</td>\n",
       "      <td>1</td>\n",
       "      <td>168412.07</td>\n",
       "      <td>1</td>\n",
       "    </tr>\n",
       "    <tr>\n",
       "      <th>4</th>\n",
       "      <td>15722731</td>\n",
       "      <td>653</td>\n",
       "      <td>France</td>\n",
       "      <td>Male</td>\n",
       "      <td>46</td>\n",
       "      <td>0</td>\n",
       "      <td>119556.10</td>\n",
       "      <td>1</td>\n",
       "      <td>1</td>\n",
       "      <td>0</td>\n",
       "      <td>78250.13</td>\n",
       "      <td>1</td>\n",
       "    </tr>\n",
       "  </tbody>\n",
       "</table>\n",
       "</div>"
      ],
      "text/plain": [
       "   customer_id  credit_score  country  gender  age  tenure   balance  \\\n",
       "0     15765192           564   France    Male   26       7  84006.88   \n",
       "1     15631882           688  Germany    Male   45       9 103399.87   \n",
       "2     15777586           784    Spain  Female   42       2 109052.04   \n",
       "3     15577107           657    Spain  Female   22       6      0.00   \n",
       "4     15722731           653   France    Male   46       0 119556.10   \n",
       "\n",
       "   products_number  credit_card  active_member  estimated_salary  churn  \n",
       "0                2            0              0         183490.99      0  \n",
       "1                1            0              0         129870.93      0  \n",
       "2                2            1              0           6409.55      0  \n",
       "3                3            0              1         168412.07      1  \n",
       "4                1            1              0          78250.13      1  "
      ]
     },
     "execution_count": 3,
     "metadata": {},
     "output_type": "execute_result"
    }
   ],
   "source": [
    "# Lendo dados de treino\n",
    "dados = pd.read_csv('https://raw.githubusercontent.com/Cayan-Portela/ceub/main/dados/bank_customer_treino.csv')\n",
    "dados.head()"
   ]
  },
  {
   "cell_type": "code",
   "execution_count": 4,
   "metadata": {},
   "outputs": [],
   "source": [
    "# pre-process da coluna gender\n",
    "dados['gender'] = np.where(dados.gender == \"Male\", 1,  0)"
   ]
  },
  {
   "cell_type": "code",
   "execution_count": 5,
   "metadata": {},
   "outputs": [],
   "source": [
    "# covariaveis (col_x) e variavel target (col_y)\n",
    "col_x = ['credit_score', 'gender', 'age', 'credit_card']\n",
    "col_x_std = ['credit_score_std', 'gender', 'age_std', 'credit_card']\n",
    "col_y = 'churn'"
   ]
  },
  {
   "cell_type": "code",
   "execution_count": 36,
   "metadata": {},
   "outputs": [
    {
     "data": {
      "text/html": [
       "<div>\n",
       "<style scoped>\n",
       "    .dataframe tbody tr th:only-of-type {\n",
       "        vertical-align: middle;\n",
       "    }\n",
       "\n",
       "    .dataframe tbody tr th {\n",
       "        vertical-align: top;\n",
       "    }\n",
       "\n",
       "    .dataframe thead th {\n",
       "        text-align: right;\n",
       "    }\n",
       "</style>\n",
       "<table border=\"1\" class=\"dataframe\">\n",
       "  <thead>\n",
       "    <tr style=\"text-align: right;\">\n",
       "      <th></th>\n",
       "      <th>customer_id</th>\n",
       "      <th>credit_score</th>\n",
       "      <th>country</th>\n",
       "      <th>gender</th>\n",
       "      <th>age</th>\n",
       "      <th>tenure</th>\n",
       "      <th>balance</th>\n",
       "      <th>products_number</th>\n",
       "      <th>credit_card</th>\n",
       "      <th>active_member</th>\n",
       "      <th>estimated_salary</th>\n",
       "      <th>churn</th>\n",
       "      <th>credit_score_std</th>\n",
       "      <th>age_std</th>\n",
       "    </tr>\n",
       "  </thead>\n",
       "  <tbody>\n",
       "    <tr>\n",
       "      <th>0</th>\n",
       "      <td>15765192</td>\n",
       "      <td>564</td>\n",
       "      <td>France</td>\n",
       "      <td>1</td>\n",
       "      <td>26</td>\n",
       "      <td>7</td>\n",
       "      <td>84006.88</td>\n",
       "      <td>2</td>\n",
       "      <td>0</td>\n",
       "      <td>0</td>\n",
       "      <td>183490.99</td>\n",
       "      <td>0</td>\n",
       "      <td>-0.88</td>\n",
       "      <td>-1.23</td>\n",
       "    </tr>\n",
       "    <tr>\n",
       "      <th>1</th>\n",
       "      <td>15631882</td>\n",
       "      <td>688</td>\n",
       "      <td>Germany</td>\n",
       "      <td>1</td>\n",
       "      <td>45</td>\n",
       "      <td>9</td>\n",
       "      <td>103399.87</td>\n",
       "      <td>1</td>\n",
       "      <td>0</td>\n",
       "      <td>0</td>\n",
       "      <td>129870.93</td>\n",
       "      <td>0</td>\n",
       "      <td>0.40</td>\n",
       "      <td>0.56</td>\n",
       "    </tr>\n",
       "    <tr>\n",
       "      <th>2</th>\n",
       "      <td>15777586</td>\n",
       "      <td>784</td>\n",
       "      <td>Spain</td>\n",
       "      <td>0</td>\n",
       "      <td>42</td>\n",
       "      <td>2</td>\n",
       "      <td>109052.04</td>\n",
       "      <td>2</td>\n",
       "      <td>1</td>\n",
       "      <td>0</td>\n",
       "      <td>6409.55</td>\n",
       "      <td>0</td>\n",
       "      <td>1.39</td>\n",
       "      <td>0.27</td>\n",
       "    </tr>\n",
       "    <tr>\n",
       "      <th>3</th>\n",
       "      <td>15577107</td>\n",
       "      <td>657</td>\n",
       "      <td>Spain</td>\n",
       "      <td>0</td>\n",
       "      <td>22</td>\n",
       "      <td>6</td>\n",
       "      <td>0.00</td>\n",
       "      <td>3</td>\n",
       "      <td>0</td>\n",
       "      <td>1</td>\n",
       "      <td>168412.07</td>\n",
       "      <td>1</td>\n",
       "      <td>0.08</td>\n",
       "      <td>-1.61</td>\n",
       "    </tr>\n",
       "    <tr>\n",
       "      <th>4</th>\n",
       "      <td>15722731</td>\n",
       "      <td>653</td>\n",
       "      <td>France</td>\n",
       "      <td>1</td>\n",
       "      <td>46</td>\n",
       "      <td>0</td>\n",
       "      <td>119556.10</td>\n",
       "      <td>1</td>\n",
       "      <td>1</td>\n",
       "      <td>0</td>\n",
       "      <td>78250.13</td>\n",
       "      <td>1</td>\n",
       "      <td>0.03</td>\n",
       "      <td>0.65</td>\n",
       "    </tr>\n",
       "  </tbody>\n",
       "</table>\n",
       "</div>"
      ],
      "text/plain": [
       "   customer_id  credit_score  country  gender  age  tenure   balance  \\\n",
       "0     15765192           564   France       1   26       7  84006.88   \n",
       "1     15631882           688  Germany       1   45       9 103399.87   \n",
       "2     15777586           784    Spain       0   42       2 109052.04   \n",
       "3     15577107           657    Spain       0   22       6      0.00   \n",
       "4     15722731           653   France       1   46       0 119556.10   \n",
       "\n",
       "   products_number  credit_card  active_member  estimated_salary  churn  \\\n",
       "0                2            0              0         183490.99      0   \n",
       "1                1            0              0         129870.93      0   \n",
       "2                2            1              0           6409.55      0   \n",
       "3                3            0              1         168412.07      1   \n",
       "4                1            1              0          78250.13      1   \n",
       "\n",
       "   credit_score_std  age_std  \n",
       "0             -0.88    -1.23  \n",
       "1              0.40     0.56  \n",
       "2              1.39     0.27  \n",
       "3              0.08    -1.61  \n",
       "4              0.03     0.65  "
      ]
     },
     "execution_count": 36,
     "metadata": {},
     "output_type": "execute_result"
    }
   ],
   "source": [
    "media_score = np.mean(dados.credit_score)\n",
    "media_age = np.mean(dados.age)\n",
    "\n",
    "std_score = np.std(dados.credit_score)\n",
    "std_age = np.std(dados.age)\n",
    "\n",
    "dados['credit_score_std'] =  (dados.credit_score - media_score) / std_score\n",
    "dados['age_std'] =  (dados.age - media_age) / std_age\n",
    "dados.head()"
   ]
  },
  {
   "cell_type": "code",
   "execution_count": 14,
   "metadata": {},
   "outputs": [],
   "source": [
    "y = dados[col_y]\n",
    "X_mat_std = matriz_x(colunas=col_x_std, dados=dados)\n",
    "X_mat = matriz_x(colunas=col_x, dados=dados)\n",
    "#X_mat = matriz_x(colunas=col_x[1:], dados=dados)"
   ]
  },
  {
   "cell_type": "markdown",
   "metadata": {},
   "source": [
    "Newton-Raphson"
   ]
  },
  {
   "cell_type": "markdown",
   "metadata": {},
   "source": [
    "$\\beta^{(k+1)} = $"
   ]
  },
  {
   "cell_type": "code",
   "execution_count": 15,
   "metadata": {},
   "outputs": [],
   "source": [
    "# Iteracoes \n",
    "betas = beta_inicial(X_mat)\n",
    "p = calcula_p(X=X_mat, B=betas)\n",
    "W = np.diag(p)\n",
    "\n",
    "\n",
    "for i in range(20):\n",
    "    p =  calcula_p(X=X_mat, B=betas)\n",
    "    W = np.diag(p)\n",
    "    beta_k1 = beta_update(X=X_mat, W=W, y=y, p=p)\n",
    "    betas = betas + beta_k1"
   ]
  },
  {
   "cell_type": "code",
   "execution_count": 43,
   "metadata": {},
   "outputs": [
    {
     "data": {
      "text/plain": [
       "(6000, 5)"
      ]
     },
     "execution_count": 43,
     "metadata": {},
     "output_type": "execute_result"
    }
   ],
   "source": [
    "X_mat.shape"
   ]
  },
  {
   "cell_type": "code",
   "execution_count": 25,
   "metadata": {},
   "outputs": [],
   "source": [
    "# Gradiente Descendente \n",
    "betas_std = beta_inicial(X_mat_std)\n",
    "lr = 0.01\n",
    "m = X_mat.shape[0]\n",
    "\n",
    "for i in range(100000):\n",
    "    p =  calcula_p(X=X_mat_std, B=betas_std)\n",
    "    grad_beta = -(1/m) * X_mat_std.T @ (y-p)\n",
    "    betas_std = betas_std - lr * grad_beta"
   ]
  },
  {
   "cell_type": "code",
   "execution_count": 47,
   "metadata": {},
   "outputs": [
    {
     "name": "stdout",
     "output_type": "stream",
     "text": [
      "Newton-Raphson: [-3.25658521e+00 -6.58125817e-04 -4.89180017e-01  6.40564764e-02\n",
      " -4.90816166e-02]\n",
      "Gradiente: [-1.18023098 -0.06374409 -0.48918016  0.680995   -0.04908161]\n"
     ]
    }
   ],
   "source": [
    "# newton-raphson\n",
    "print(f\"Newton-Raphson: {betas}\")\n",
    "\n",
    "# gradiente descendente\n",
    "print(f\"Gradiente: {betas_std}\")"
   ]
  },
  {
   "cell_type": "code",
   "execution_count": 50,
   "metadata": {},
   "outputs": [
    {
     "name": "stdout",
     "output_type": "stream",
     "text": [
      "Predito (NR):    [0.0793304  0.21148217 0.24392764 0.09281557 0.21788999]\n",
      "Preditos (Grad): [0.07933037 0.2114822  0.24392769 0.09281553 0.21789004]\n"
     ]
    }
   ],
   "source": [
    "print(f\"Predito (NR):    {calcula_p(X_mat[:5,:], betas)}\")\n",
    "print(f\"Preditos (Grad): {calcula_p(X_mat_std[:5,:], betas_std)}\")"
   ]
  },
  {
   "cell_type": "code",
   "execution_count": 8,
   "metadata": {},
   "outputs": [],
   "source": [
    "from sklearn.linear_model import LogisticRegression"
   ]
  },
  {
   "cell_type": "code",
   "execution_count": 9,
   "metadata": {},
   "outputs": [
    {
     "data": {
      "text/html": [
       "<style>#sk-container-id-1 {color: black;background-color: white;}#sk-container-id-1 pre{padding: 0;}#sk-container-id-1 div.sk-toggleable {background-color: white;}#sk-container-id-1 label.sk-toggleable__label {cursor: pointer;display: block;width: 100%;margin-bottom: 0;padding: 0.3em;box-sizing: border-box;text-align: center;}#sk-container-id-1 label.sk-toggleable__label-arrow:before {content: \"▸\";float: left;margin-right: 0.25em;color: #696969;}#sk-container-id-1 label.sk-toggleable__label-arrow:hover:before {color: black;}#sk-container-id-1 div.sk-estimator:hover label.sk-toggleable__label-arrow:before {color: black;}#sk-container-id-1 div.sk-toggleable__content {max-height: 0;max-width: 0;overflow: hidden;text-align: left;background-color: #f0f8ff;}#sk-container-id-1 div.sk-toggleable__content pre {margin: 0.2em;color: black;border-radius: 0.25em;background-color: #f0f8ff;}#sk-container-id-1 input.sk-toggleable__control:checked~div.sk-toggleable__content {max-height: 200px;max-width: 100%;overflow: auto;}#sk-container-id-1 input.sk-toggleable__control:checked~label.sk-toggleable__label-arrow:before {content: \"▾\";}#sk-container-id-1 div.sk-estimator input.sk-toggleable__control:checked~label.sk-toggleable__label {background-color: #d4ebff;}#sk-container-id-1 div.sk-label input.sk-toggleable__control:checked~label.sk-toggleable__label {background-color: #d4ebff;}#sk-container-id-1 input.sk-hidden--visually {border: 0;clip: rect(1px 1px 1px 1px);clip: rect(1px, 1px, 1px, 1px);height: 1px;margin: -1px;overflow: hidden;padding: 0;position: absolute;width: 1px;}#sk-container-id-1 div.sk-estimator {font-family: monospace;background-color: #f0f8ff;border: 1px dotted black;border-radius: 0.25em;box-sizing: border-box;margin-bottom: 0.5em;}#sk-container-id-1 div.sk-estimator:hover {background-color: #d4ebff;}#sk-container-id-1 div.sk-parallel-item::after {content: \"\";width: 100%;border-bottom: 1px solid gray;flex-grow: 1;}#sk-container-id-1 div.sk-label:hover label.sk-toggleable__label {background-color: #d4ebff;}#sk-container-id-1 div.sk-serial::before {content: \"\";position: absolute;border-left: 1px solid gray;box-sizing: border-box;top: 0;bottom: 0;left: 50%;z-index: 0;}#sk-container-id-1 div.sk-serial {display: flex;flex-direction: column;align-items: center;background-color: white;padding-right: 0.2em;padding-left: 0.2em;position: relative;}#sk-container-id-1 div.sk-item {position: relative;z-index: 1;}#sk-container-id-1 div.sk-parallel {display: flex;align-items: stretch;justify-content: center;background-color: white;position: relative;}#sk-container-id-1 div.sk-item::before, #sk-container-id-1 div.sk-parallel-item::before {content: \"\";position: absolute;border-left: 1px solid gray;box-sizing: border-box;top: 0;bottom: 0;left: 50%;z-index: -1;}#sk-container-id-1 div.sk-parallel-item {display: flex;flex-direction: column;z-index: 1;position: relative;background-color: white;}#sk-container-id-1 div.sk-parallel-item:first-child::after {align-self: flex-end;width: 50%;}#sk-container-id-1 div.sk-parallel-item:last-child::after {align-self: flex-start;width: 50%;}#sk-container-id-1 div.sk-parallel-item:only-child::after {width: 0;}#sk-container-id-1 div.sk-dashed-wrapped {border: 1px dashed gray;margin: 0 0.4em 0.5em 0.4em;box-sizing: border-box;padding-bottom: 0.4em;background-color: white;}#sk-container-id-1 div.sk-label label {font-family: monospace;font-weight: bold;display: inline-block;line-height: 1.2em;}#sk-container-id-1 div.sk-label-container {text-align: center;}#sk-container-id-1 div.sk-container {/* jupyter's `normalize.less` sets `[hidden] { display: none; }` but bootstrap.min.css set `[hidden] { display: none !important; }` so we also need the `!important` here to be able to override the default hidden behavior on the sphinx rendered scikit-learn.org. See: https://github.com/scikit-learn/scikit-learn/issues/21755 */display: inline-block !important;position: relative;}#sk-container-id-1 div.sk-text-repr-fallback {display: none;}</style><div id=\"sk-container-id-1\" class=\"sk-top-container\"><div class=\"sk-text-repr-fallback\"><pre>LogisticRegression()</pre><b>In a Jupyter environment, please rerun this cell to show the HTML representation or trust the notebook. <br />On GitHub, the HTML representation is unable to render, please try loading this page with nbviewer.org.</b></div><div class=\"sk-container\" hidden><div class=\"sk-item\"><div class=\"sk-estimator sk-toggleable\"><input class=\"sk-toggleable__control sk-hidden--visually\" id=\"sk-estimator-id-1\" type=\"checkbox\" checked><label for=\"sk-estimator-id-1\" class=\"sk-toggleable__label sk-toggleable__label-arrow\">LogisticRegression</label><div class=\"sk-toggleable__content\"><pre>LogisticRegression()</pre></div></div></div></div></div>"
      ],
      "text/plain": [
       "LogisticRegression()"
      ]
     },
     "execution_count": 9,
     "metadata": {},
     "output_type": "execute_result"
    }
   ],
   "source": [
    "sk_logistica = LogisticRegression()\n",
    "sk_logistica.fit(dados[col_x], y)"
   ]
  },
  {
   "cell_type": "code",
   "execution_count": 10,
   "metadata": {},
   "outputs": [
    {
     "name": "stdout",
     "output_type": "stream",
     "text": [
      "Nossos Betas: [-3.25658521e+00 -6.58125817e-04 -4.89180017e-01  6.40564764e-02\n",
      " -4.90816166e-02]\n",
      "Sklearn Betas: (array([-3.27061466]), array([[-0.00063749, -0.49520859,  0.0641967 , -0.052929  ]]))\n"
     ]
    }
   ],
   "source": [
    "print(f\"Nossos Betas: {betas}\")\n",
    "print(f\"Sklearn Betas: {sk_logistica.intercept_, sk_logistica.coef_}\")"
   ]
  },
  {
   "cell_type": "markdown",
   "metadata": {},
   "source": [
    "Achar a probabilidade de churn de cada cliente na base de teste"
   ]
  },
  {
   "cell_type": "code",
   "execution_count": 11,
   "metadata": {},
   "outputs": [],
   "source": [
    "dados_teste = pd.read_csv('https://raw.githubusercontent.com/Cayan-Portela/ceub/main/dados/bank_custoter_teste.csv')\n",
    "dados_teste['gender'] = np.where(dados_teste.gender == \"Male\", 1, 0)"
   ]
  },
  {
   "cell_type": "code",
   "execution_count": 12,
   "metadata": {},
   "outputs": [],
   "source": [
    "X_mat_teste = matriz_x(colunas=col_x, dados=dados_teste)\n",
    "p_teste = calcula_p(X=X_mat_teste, B=betas)"
   ]
  },
  {
   "cell_type": "code",
   "execution_count": 14,
   "metadata": {},
   "outputs": [
    {
     "data": {
      "text/plain": [
       "array([0.86478835, 0.83914253, 0.83676744, 0.83495899, 0.82278887,\n",
       "       0.80055285, 0.79392211, 0.78976356, 0.78309564, 0.77431609])"
      ]
     },
     "execution_count": 14,
     "metadata": {},
     "output_type": "execute_result"
    }
   ],
   "source": [
    "# ordernando as probabilidades \"p_teste\" da maior para a menor\n",
    "# olhando as 10 maiores probabilidades estimadas\n",
    "np.sort(p_teste)[::-1][:10]"
   ]
  },
  {
   "cell_type": "code",
   "execution_count": 24,
   "metadata": {},
   "outputs": [
    {
     "data": {
      "text/html": [
       "<div>\n",
       "<style scoped>\n",
       "    .dataframe tbody tr th:only-of-type {\n",
       "        vertical-align: middle;\n",
       "    }\n",
       "\n",
       "    .dataframe tbody tr th {\n",
       "        vertical-align: top;\n",
       "    }\n",
       "\n",
       "    .dataframe thead th {\n",
       "        text-align: right;\n",
       "    }\n",
       "</style>\n",
       "<table border=\"1\" class=\"dataframe\">\n",
       "  <thead>\n",
       "    <tr style=\"text-align: right;\">\n",
       "      <th>churn</th>\n",
       "      <th>0</th>\n",
       "      <th>1</th>\n",
       "    </tr>\n",
       "    <tr>\n",
       "      <th>row_0</th>\n",
       "      <th></th>\n",
       "      <th></th>\n",
       "    </tr>\n",
       "  </thead>\n",
       "  <tbody>\n",
       "    <tr>\n",
       "      <th>0</th>\n",
       "      <td>3089</td>\n",
       "      <td>753</td>\n",
       "    </tr>\n",
       "    <tr>\n",
       "      <th>1</th>\n",
       "      <td>116</td>\n",
       "      <td>42</td>\n",
       "    </tr>\n",
       "  </tbody>\n",
       "</table>\n",
       "</div>"
      ],
      "text/plain": [
       "churn     0    1\n",
       "row_0           \n",
       "0      3089  753\n",
       "1       116   42"
      ]
     },
     "execution_count": 24,
     "metadata": {},
     "output_type": "execute_result"
    }
   ],
   "source": [
    "pd.crosstab(\n",
    "    np.where(p_teste >= 0.5, 1, 0),\n",
    "    dados_teste['churn']\n",
    ")"
   ]
  },
  {
   "cell_type": "code",
   "execution_count": 28,
   "metadata": {},
   "outputs": [
    {
     "data": {
      "text/plain": [
       "0   0.80\n",
       "1   0.20\n",
       "Name: churn, dtype: float64"
      ]
     },
     "execution_count": 28,
     "metadata": {},
     "output_type": "execute_result"
    }
   ],
   "source": [
    "dados_teste.churn.value_counts(normalize=True)"
   ]
  },
  {
   "cell_type": "code",
   "execution_count": 29,
   "metadata": {},
   "outputs": [
    {
     "data": {
      "text/plain": [
       "3.1622776601683795"
      ]
     },
     "execution_count": 29,
     "metadata": {},
     "output_type": "execute_result"
    }
   ],
   "source": [
    "np.sqrt(10)"
   ]
  },
  {
   "cell_type": "markdown",
   "metadata": {},
   "source": [
    "Calcule $\\sqrt{10}$ usando newton-raphson"
   ]
  },
  {
   "cell_type": "markdown",
   "metadata": {},
   "source": [
    "$\\sqrt{10} = x$\n",
    "\n",
    "$x^2 = 10$\n",
    "\n",
    "$x^2 - 10 = 0$"
   ]
  },
  {
   "cell_type": "code",
   "execution_count": null,
   "metadata": {},
   "outputs": [],
   "source": []
  },
  {
   "cell_type": "code",
   "execution_count": 2,
   "metadata": {},
   "outputs": [],
   "source": [
    "def x_update(x):\n",
    "    #return (1/2) * (x  + 10/x)\n",
    "    return ((x**2)-10) / (2*x)"
   ]
  },
  {
   "cell_type": "code",
   "execution_count": 3,
   "metadata": {},
   "outputs": [],
   "source": [
    "x_ = 3\n",
    "\n",
    "for i in range(20):\n",
    "    x_ = x_ - x_update(x_)"
   ]
  },
  {
   "cell_type": "markdown",
   "metadata": {},
   "source": [
    "Show that a root of the equation $x^4 − 2x^3 + 2x − 2 = 0$ lies between $x = 1$ and $x = 2$."
   ]
  },
  {
   "cell_type": "code",
   "execution_count": 1,
   "metadata": {},
   "outputs": [],
   "source": [
    "def x_update_dois(x):\n",
    "    return (x**4 - 2*x**3 + 2*x - 2) / (4*x**3 - 6*x**2 + 2)"
   ]
  },
  {
   "cell_type": "code",
   "execution_count": 2,
   "metadata": {},
   "outputs": [],
   "source": [
    "x_ = 1.5\n",
    "\n",
    "for i in range(20):\n",
    "    x_ = x_ - x_update_dois(x_)"
   ]
  },
  {
   "cell_type": "code",
   "execution_count": 4,
   "metadata": {},
   "outputs": [
    {
     "data": {
      "text/plain": [
       "1.7166727492822866"
      ]
     },
     "execution_count": 4,
     "metadata": {},
     "output_type": "execute_result"
    }
   ],
   "source": [
    "x_"
   ]
  },
  {
   "cell_type": "code",
   "execution_count": 3,
   "metadata": {},
   "outputs": [],
   "source": [
    "def update_x_new(x):\n",
    "    return (2*x**3  + 5)/(3*x**2 - 2)"
   ]
  },
  {
   "cell_type": "code",
   "execution_count": 5,
   "metadata": {},
   "outputs": [],
   "source": [
    "for i in range(20):\n",
    "    x_ = x_ - x_update_dois(x_)"
   ]
  },
  {
   "cell_type": "markdown",
   "metadata": {},
   "source": [
    "Gradiente"
   ]
  },
  {
   "cell_type": "code",
   "execution_count": 43,
   "metadata": {},
   "outputs": [],
   "source": [
    "x_ = 0\n",
    "alpha = 0.01\n",
    "for i in range(550):\n",
    "    x_ = x_ - alpha * (x_**2 - 10)"
   ]
  },
  {
   "cell_type": "code",
   "execution_count": null,
   "metadata": {},
   "outputs": [],
   "source": []
  },
  {
   "cell_type": "code",
   "execution_count": null,
   "metadata": {},
   "outputs": [],
   "source": [
    "betas_std = beta_inicial(X_mat_std)\n",
    "lr = 0.01\n",
    "m = X_mat.shape[0]\n",
    "\n",
    "for i in range(100000):\n",
    "    p =  calcula_p(X=X_mat_std, B=betas_std)\n",
    "    grad_beta = -(1/m) * X_mat_std.T @ (y-p)\n",
    "    betas_std = betas_std - lr * grad_beta"
   ]
  },
  {
   "cell_type": "code",
   "execution_count": 64,
   "metadata": {},
   "outputs": [
    {
     "data": {
      "text/plain": [
       "array([0., 0., 0., 0., 0.])"
      ]
     },
     "execution_count": 64,
     "metadata": {},
     "output_type": "execute_result"
    },
    {
     "data": {
      "text/plain": [
       "array([0.5, 0.5, 0.5, ..., 0.5, 0.5, 0.5])"
      ]
     },
     "execution_count": 64,
     "metadata": {},
     "output_type": "execute_result"
    },
    {
     "data": {
      "text/plain": [
       "array([-2.93000000e-03, -1.91188333e+00, -1.79416667e-03, -1.01899167e-01,\n",
       "       -2.09833333e-03])"
      ]
     },
     "execution_count": 64,
     "metadata": {},
     "output_type": "execute_result"
    },
    {
     "data": {
      "text/plain": [
       "array([0., 0., 0., ..., 0., 0., 0.])"
      ]
     },
     "execution_count": 64,
     "metadata": {},
     "output_type": "execute_result"
    },
    {
     "data": {
      "text/plain": [
       "array([-0.00086   , -0.57545   , -0.00085583, -0.0083525 , -0.000655  ])"
      ]
     },
     "execution_count": 64,
     "metadata": {},
     "output_type": "execute_result"
    },
    {
     "data": {
      "text/plain": [
       "array([1.21000000e-03, 7.60983333e-01, 8.25000000e-05, 8.51941667e-02,\n",
       "       7.88333333e-04])"
      ]
     },
     "execution_count": 64,
     "metadata": {},
     "output_type": "execute_result"
    },
    {
     "data": {
      "text/plain": [
       "array([-0.00672   , -4.39921667, -0.00444417, -0.21215083, -0.00485167])"
      ]
     },
     "execution_count": 64,
     "metadata": {},
     "output_type": "execute_result"
    },
    {
     "data": {
      "text/plain": [
       "array([0., 0., 0., ..., 0., 0., 0.])"
      ]
     },
     "execution_count": 64,
     "metadata": {},
     "output_type": "execute_result"
    }
   ],
   "source": [
    "betas_ = beta_inicial(X_mat)\n",
    "betas_\n",
    "p1 = calcula_p(X=X_mat, B=betas_)\n",
    "p1\n",
    "grad_beta = -(1/m) * X_mat.T @ (y-p1)\n",
    "betas_k2 = betas_ - 0.01 * grad_beta\n",
    "\n",
    "betas_k2\n",
    "p2 = calcula_p(X=X_mat, B=betas_k2)\n",
    "p2\n",
    "grad_beta = -(1/m) * X_mat.T @ (y-p2)\n",
    "betas_k3 = betas_k2 - 0.01 * grad_beta\n",
    "betas_k3\n",
    "\n",
    "p3 = calcula_p(X=X_mat, B=betas_k3)\n",
    "grad_beta = -(1/m) * X_mat.T @ (y-p3)\n",
    "betas_k4 = betas_k3 - 0.01 * grad_beta\n",
    "betas_k4\n",
    "\n",
    "p4 = calcula_p(X=X_mat, B=betas_k4)\n",
    "grad_beta = -(1/m) * X_mat.T @ (y-p4)\n",
    "betas_k5 = betas_k4 - 0.01 * grad_beta\n",
    "betas_k5\n",
    "\n",
    "calcula_p(X=X_mat, B=betas_k5)"
   ]
  },
  {
   "cell_type": "code",
   "execution_count": 77,
   "metadata": {},
   "outputs": [
    {
     "name": "stdout",
     "output_type": "stream",
     "text": [
      "[0.5 0.5 0.5 ... 0.5 0.5 0.5] [0. 0. 0. 0. 0.]\n",
      "[0. 0. 0. ... 0. 0. 0.] [-2.93000000e-03 -1.91188333e+00 -1.79416667e-03 -1.01899167e-01\n",
      " -2.09833333e-03]\n",
      "[8.97463596e-142 7.84630527e-173 8.20007516e-197 ... 4.40088557e-116\n",
      " 4.82604370e-192 2.66341720e-134] [-0.00086    -0.57545    -0.00085583 -0.0083525  -0.000655  ]\n",
      "[1. 1. 1. ... 1. 1. 1.] [1.21000000e-03 7.60983333e-01 8.25000000e-05 8.51941667e-02\n",
      " 7.88333333e-04]\n",
      "[0. 0. 0. ... 0. 0. 0.] [-0.00672    -4.39921667 -0.00444417 -0.21215083 -0.00485167]\n",
      "[0. 0. 0. ... 0. 0. 0.] [-0.00465    -3.06278333 -0.00350583 -0.11860417 -0.00340833]\n",
      "[0. 0. 0. ... 0. 0. 0.] [-0.00258   -1.72635   -0.0025675 -0.0250575 -0.001965 ]\n",
      "[1.84257307e-095 6.80105301e-116 3.07123248e-132 ... 1.33109755e-077\n",
      " 3.35407546e-129 3.58511614e-090] [-0.00051    -0.38991667 -0.00162917  0.06848917 -0.00052167]\n",
      "[ 1.  1. nan ...  1. nan  1.] [ 1.56000000e-03  9.46516667e-01 -6.90833333e-04  1.62035833e-01\n",
      "  9.21666667e-04]\n",
      "[nan nan nan ... nan nan nan] [nan nan nan nan nan]\n"
     ]
    },
    {
     "name": "stderr",
     "output_type": "stream",
     "text": [
      "/home/cayan/Documentos/Trabalhos/ceub/otimizacao/aux_fun.py:20: RuntimeWarning: overflow encountered in exp\n",
      "  return np.exp(X @ B) / (1 + np.exp(X @ B))\n",
      "/home/cayan/Documentos/Trabalhos/ceub/otimizacao/aux_fun.py:20: RuntimeWarning: invalid value encountered in divide\n",
      "  return np.exp(X @ B) / (1 + np.exp(X @ B))\n"
     ]
    }
   ],
   "source": [
    "betas_ = beta_inicial(X_mat)\n",
    "lr = 0.01\n",
    "m = X_mat.shape[0]\n",
    "\n",
    "for i in range(10):\n",
    "    p =  calcula_p(X=X_mat, B=betas_)\n",
    "    print(p, betas_)\n",
    "    grad_beta = -(1/m) * X_mat.T @ (y-p)\n",
    "    betas_ = betas_ - lr * grad_beta"
   ]
  },
  {
   "cell_type": "code",
   "execution_count": 84,
   "metadata": {},
   "outputs": [
    {
     "data": {
      "text/plain": [
       "0.9999546021312976"
      ]
     },
     "execution_count": 84,
     "metadata": {},
     "output_type": "execute_result"
    }
   ],
   "source": [
    "np.exp(1000)/(1+np.exp(1000))"
   ]
  },
  {
   "cell_type": "code",
   "execution_count": 90,
   "metadata": {},
   "outputs": [
    {
     "data": {
      "text/plain": [
       "nan"
      ]
     },
     "execution_count": 90,
     "metadata": {},
     "output_type": "execute_result"
    }
   ],
   "source": [
    "np.Inf/np.Inf"
   ]
  },
  {
   "cell_type": "code",
   "execution_count": 75,
   "metadata": {},
   "outputs": [
    {
     "data": {
      "text/plain": [
       "array([0., 0., 0., ..., 0., 0., 0.])"
      ]
     },
     "execution_count": 75,
     "metadata": {},
     "output_type": "execute_result"
    }
   ],
   "source": [
    "p"
   ]
  }
 ],
 "metadata": {
  "kernelspec": {
   "display_name": "pyenv_pd_imb",
   "language": "python",
   "name": "python3"
  },
  "language_info": {
   "codemirror_mode": {
    "name": "ipython",
    "version": 3
   },
   "file_extension": ".py",
   "mimetype": "text/x-python",
   "name": "python",
   "nbconvert_exporter": "python",
   "pygments_lexer": "ipython3",
   "version": "3.10.0"
  },
  "orig_nbformat": 4
 },
 "nbformat": 4,
 "nbformat_minor": 2
}
